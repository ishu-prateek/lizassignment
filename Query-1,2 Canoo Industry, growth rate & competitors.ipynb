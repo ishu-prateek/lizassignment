{
 "cells": [
  {
   "cell_type": "code",
   "execution_count": 2,
   "id": "09918ff9",
   "metadata": {},
   "outputs": [],
   "source": [
    "import numpy as np\n",
    "import pandas as pd\n",
    "from bs4 import BeautifulSoup\n",
    "import requests"
   ]
  },
  {
   "cell_type": "markdown",
   "id": "9cc21ae0",
   "metadata": {},
   "source": [
    "#### 1. Identify the industry in which Canoo operates, along with its size, growth rate, trends, and key players."
   ]
  },
  {
   "cell_type": "code",
   "execution_count": 2,
   "id": "aa5bc99d",
   "metadata": {},
   "outputs": [
    {
     "name": "stdout",
     "output_type": "stream",
     "text": [
      "200\n"
     ]
    }
   ],
   "source": [
    "q1=requests.get(\"https://www.globaldata.com/company-profile/canoo-inc/\")\n",
    "print(q1.status_code)"
   ]
  },
  {
   "cell_type": "markdown",
   "id": "4ad70c2d",
   "metadata": {},
   "source": [
    " meaning the website can be accessed"
   ]
  },
  {
   "cell_type": "raw",
   "id": "91b65c93",
   "metadata": {},
   "source": [
    " This website contains the information regarding Canno its products and services hence as a introductory file i would like to\n",
    "save it in the format of text file"
   ]
  },
  {
   "cell_type": "code",
   "execution_count": 3,
   "id": "c77e5588",
   "metadata": {},
   "outputs": [
    {
     "name": "stdout",
     "output_type": "stream",
     "text": [
      "<class 'bs4.BeautifulSoup'>\n",
      "Canoo Inc (Canoo) is a high tech advanced mobility technology company. The company’s product offerings include true steer-by-wire, leaf spring suspension systems, advanced drivetrain systems, battery and battery management systems, electrical systems architecture, lifestyle vehicles and delivery, multi-purpose delivery vehicles and pickup. It provides electric vehicle concept, design and engineering services for auto original equipment manufacturers (OEMs). Canoo develops the Canoo Digital Ecosystem software to provide key tools for passenger vehicles and fleets with products spanning lifestyle, fleet management, security and safety, household and asset management use cases. The company serves businesses and consumers. It operates offices in California, Arkansas, Oklahama, Texas and Michigan. Canoo is headquartered in Torrance, California, the US.\n"
     ]
    }
   ],
   "source": [
    "soup=BeautifulSoup(q1.text,'html.parser')\n",
    "print(type(soup))\n",
    "\n",
    "Intro=soup.p.text #navigatable string\n",
    "print(Intro)\n",
    "f= open(\"Canoo industry.txt\",\"w\")\n",
    "f.write(Intro)\n",
    "f.close()"
   ]
  },
  {
   "cell_type": "code",
   "execution_count": 4,
   "id": "58709c2c",
   "metadata": {},
   "outputs": [
    {
     "name": "stdout",
     "output_type": "stream",
     "text": [
      "As of February 2024 Canoo has a market cap of $0.15 Billion.\n",
      "This makes Canoo the world's 6927th most valuable company by market cap according to our data. The market capitalization, commonly called market cap, is the total market value of a publicly traded company's outstanding shares and is commonly used to measure how much a company is worth.\n"
     ]
    }
   ],
   "source": [
    "#Canoo's Market Cap \n",
    "q2= requests.get(\"https://companiesmarketcap.com/canoo/marketcap/\")\n",
    "soup2=BeautifulSoup(q2.text,'html.parser')\n",
    "marketcap= soup2.find(\"p\",class_=\"mt-2\")\n",
    "print(marketcap.text)"
   ]
  },
  {
   "cell_type": "code",
   "execution_count": 5,
   "id": "d73c196e",
   "metadata": {},
   "outputs": [
    {
     "data": {
      "text/plain": [
       "347"
      ]
     },
     "execution_count": 5,
     "metadata": {},
     "output_type": "execute_result"
    }
   ],
   "source": [
    "#appending it to the txt file\n",
    "f=open(\"Canoo industry.txt\",\"a\")\n",
    "f.write(marketcap.text)\n"
   ]
  },
  {
   "cell_type": "code",
   "execution_count": 37,
   "id": "d7c9d54d",
   "metadata": {},
   "outputs": [
    {
     "name": "stdout",
     "output_type": "stream",
     "text": [
      "200\n"
     ]
    }
   ],
   "source": [
    "q5=requests.get(\"https://www.fool.com/investing/2024/01/30/where-will-canoo-stock-be-in-1-year/\")\n",
    "print(q5.status_code)\n",
    "\n",
    "soup6=BeautifulSoup(q5.text,'html.parser')\n",
    "#print(soup6.text)"
   ]
  },
  {
   "cell_type": "code",
   "execution_count": 38,
   "id": "ad3dcb6c",
   "metadata": {},
   "outputs": [],
   "source": [
    "tag=soup6.find('div',class_=\"article-body\")\n",
    "contents=tag.find_all('p')\n",
    "f=open(\"Canoo industry.txt\",'a')\n",
    "for i in range(len(contents)):\n",
    "    f.write(contents[i].text)\n",
    "    \n",
    "f.close()"
   ]
  },
  {
   "cell_type": "code",
   "execution_count": 39,
   "id": "b0ee6be8",
   "metadata": {},
   "outputs": [
    {
     "data": {
      "text/plain": [
       "'Canoo Inc (Canoo) is a high tech advanced mobility technology company. The company’s product offerings include true steer-by-wire, leaf spring suspension systems, advanced drivetrain systems, battery and battery management systems, electrical systems architecture, lifestyle vehicles and delivery, multi-purpose delivery vehicles and pickup. It provides electric vehicle concept, design and engineering services for auto original equipment manufacturers (OEMs). Canoo develops the Canoo Digital Ecosystem software to provide key tools for passenger vehicles and fleets with products spanning lifestyle, fleet management, security and safety, household and asset management use cases. The company serves businesses and consumers. It operates offices in California, Arkansas, Oklahama, Texas and Michigan. Canoo is headquartered in Torrance, California, the US.As of February 2024 Canoo has a market cap of $0.15 Billion.\\nThis makes Canoo the world\\'s 6927th most valuable company by market cap according to our data. The market capitalization, commonly called market cap, is the total market value of a publicly traded company\\'s outstanding shares and is commonly used to measure how much a company is worth.The very first bullet point in Canoo\\'s (GOEV -3.16%) third-quarter 2023 earnings release stated that the electric vehicle (EV) company had reached the \"accelerating revenue generation phase.\" That sounds great, and if you look at the income statement, it is clearly true. But there\\'s still one small nuance to consider if you examine the company\\'s 10-Q filing.In the third quarter of 2023, Canoo generated $519,000 of revenue, compared to zero in the prior year period. In fact, if you look back through the company\\'s short history (it went public through a merger with a special purpose acquisition company in December 2020), the third quarter of 2023 was the first time it generated any revenue at all.Image source: Getty Images.To give credit where credit is due, the third quarter was a big improvement. Until now, the company has just been trying to build its business. Getting to this point was no small feat, given that creating an EV company from, effectively, scratch is both difficult and expensive.That said, there are still some problems investors need to consider. For example, while it generated $519,000 in revenue, the cost of revenue tallied up to $903,000. So, the company\\'s gross profit was negative. On top of that, the company is still spending a lot of money to build out its business. For example, research and development spending came in at $21.9 million, and selling, general, and administrative expenses were $24.9 million.\\xa0Canoo continues to burn through cash.That is why, despite entering the \"accelerating revenue generation phase,\" the company\\'s 10-Q for the third quarter still contained a going concern warning. This is a warning from a company that it may be unable to survive the next 12 months because of its weak financial condition. Here\\'s what the filing said:The Company expects to continue to incur net losses and negative cash flows from operating activities in accordance with its operating plan and expects that both capital and operating expenditures will increase significantly in connection with its ongoing activities. These conditions and events raise substantial doubt about the Company\\'s ability to continue as a going concern.There\\'s no way to predict the future, but Canoo is clearly not starting from a position of strength. It is highly likely to need to sell equity or issue debt to continue to fund its business efforts. This isn\\'t a maybe. It\\'s a certainty. The company noted in the third-quarter 2023 earnings release:As of September 30, 2023, we had cash and cash equivalents of $8.3 million. After giving effect to the preferred stock and warrant subscription agreement for a total of $45.0 million, our cash balance would have been $53.3 million on September 30, 2023.Put into plain English, the company doesn\\'t have nearly enough cash on hand, but it has agreements to sell preferred stock and warrants that will allow it to raise some much-needed money. Finally generating some revenue is good news, but there needs to be a drastic \"acceleration\" on the top line before Canoo will be able to self-fund its business. And since a going concern warning looks out 12 months, the next year isn\\'t likely to see the company\\'s financial situation change much.The worst part of all this is likely that at some point in the future, Canoo will have to issue shares to cover the convertibles and warrants it is relying on to generate cash today. That means current shareholders could potentially suffer massive amounts of dilution before Canoo gets its business profitable (if it ever manages to). The risk/reward trade-off looks pretty ugly right now, and only the most aggressive investors should be looking at Canoo.By Canoo\\'s own admission, the next year will be hard financially. Buying the stock today means you must not only believe strongly that it can actually build a profitable business but also be willing to suffer more losses until it does. And even then, you will likely see material dilution as the company has to make good on the convertibles and warrants it has been using to fund its massive capital needs.All but the most aggressive investors would probably be better off watching the company\\'s progress over the next year than buying it. That will remain true at least until the going concern warning is removed from the company\\'s filings with the Securities and Exchange Commission.'"
      ]
     },
     "execution_count": 39,
     "metadata": {},
     "output_type": "execute_result"
    }
   ],
   "source": [
    "f=open(\"Canoo industry.txt\",'r')\n",
    "f.read()"
   ]
  },
  {
   "cell_type": "code",
   "execution_count": 6,
   "id": "2536f03f",
   "metadata": {},
   "outputs": [],
   "source": [
    "#lets check txt file\n",
    "f=open(\"Canoo industry.txt\",'r')\n",
    "f.read()\n",
    "f.close()"
   ]
  },
  {
   "cell_type": "code",
   "execution_count": 7,
   "id": "bbdd40dd",
   "metadata": {},
   "outputs": [],
   "source": [
    "table = soup2.find(\"table\", class_=\"table\")\n",
    "f = pd.DataFrame(\n",
    "    columns=[\"Year\", \"Market_cap\", \"Change\"]\n",
    ")\n",
    "mylist = []\n",
    "for table_row in table.tbody.find_all(\"tr\"):\n",
    "    table_columns = table_row.find_all(\"td\")\n",
    "\n",
    "    if table_columns != []:\n",
    "        year = table_columns[0].text.strip()\n",
    "        market_cap = table_columns[1].text.strip()\n",
    "        change = table_columns[2].text.strip()\n",
    "\n",
    "        mylist.append([year,market_cap,change])\n",
    "\n",
    "df = pd.DataFrame(\n",
    "    mylist,\n",
    "    columns=[\"Year\", \"Market_cap\", \"Change\"]\n",
    ")\n",
    "\n"
   ]
  },
  {
   "cell_type": "code",
   "execution_count": 8,
   "id": "ddb04480",
   "metadata": {},
   "outputs": [
    {
     "data": {
      "text/html": [
       "<div>\n",
       "<style scoped>\n",
       "    .dataframe tbody tr th:only-of-type {\n",
       "        vertical-align: middle;\n",
       "    }\n",
       "\n",
       "    .dataframe tbody tr th {\n",
       "        vertical-align: top;\n",
       "    }\n",
       "\n",
       "    .dataframe thead th {\n",
       "        text-align: right;\n",
       "    }\n",
       "</style>\n",
       "<table border=\"1\" class=\"dataframe\">\n",
       "  <thead>\n",
       "    <tr style=\"text-align: right;\">\n",
       "      <th></th>\n",
       "      <th>Year</th>\n",
       "      <th>Market_cap</th>\n",
       "      <th>Change</th>\n",
       "    </tr>\n",
       "  </thead>\n",
       "  <tbody>\n",
       "    <tr>\n",
       "      <th>0</th>\n",
       "      <td>2024</td>\n",
       "      <td>$0.15 B</td>\n",
       "      <td>-22.38%</td>\n",
       "    </tr>\n",
       "    <tr>\n",
       "      <th>1</th>\n",
       "      <td>2023</td>\n",
       "      <td>$0.20 B</td>\n",
       "      <td>-52.36%</td>\n",
       "    </tr>\n",
       "    <tr>\n",
       "      <th>2</th>\n",
       "      <td>2022</td>\n",
       "      <td>$0.42 B</td>\n",
       "      <td>-76.98%</td>\n",
       "    </tr>\n",
       "    <tr>\n",
       "      <th>3</th>\n",
       "      <td>2021</td>\n",
       "      <td>$1.84 B</td>\n",
       "      <td>-43.32%</td>\n",
       "    </tr>\n",
       "    <tr>\n",
       "      <th>4</th>\n",
       "      <td>2020</td>\n",
       "      <td>$3.25 B</td>\n",
       "      <td></td>\n",
       "    </tr>\n",
       "  </tbody>\n",
       "</table>\n",
       "</div>"
      ],
      "text/plain": [
       "   Year Market_cap   Change\n",
       "0  2024    $0.15 B  -22.38%\n",
       "1  2023    $0.20 B  -52.36%\n",
       "2  2022    $0.42 B  -76.98%\n",
       "3  2021    $1.84 B  -43.32%\n",
       "4  2020    $3.25 B         "
      ]
     },
     "execution_count": 8,
     "metadata": {},
     "output_type": "execute_result"
    }
   ],
   "source": [
    "df"
   ]
  },
  {
   "cell_type": "code",
   "execution_count": 9,
   "id": "1af2d24d",
   "metadata": {},
   "outputs": [],
   "source": [
    "#saving as csv file\n",
    "df.to_csv(\"Canoo_market_cap.csv\")"
   ]
  },
  {
   "cell_type": "code",
   "execution_count": 10,
   "id": "7bad765e",
   "metadata": {},
   "outputs": [],
   "source": [
    "#Canoo Earnings\n",
    "q3=requests.get(\"https://companiesmarketcap.com/canoo/earnings/\")\n",
    "soup3=BeautifulSoup(q3.text,'html.parser')\n"
   ]
  },
  {
   "cell_type": "code",
   "execution_count": 11,
   "id": "6721e9a1",
   "metadata": {},
   "outputs": [],
   "source": [
    "table = soup3.find(\"table\", class_=\"table\")\n",
    "f = pd.DataFrame(\n",
    "    columns=[\"Year\", \"Earnings\", \"Diff\"]\n",
    ")\n",
    "mylist = []\n",
    "for table_row in table.tbody.find_all(\"tr\"):\n",
    "    table_columns = table_row.find_all(\"td\")\n",
    "\n",
    "    if table_columns != []:\n",
    "        year = table_columns[0].text.strip()\n",
    "        earnings = table_columns[1].text.strip()\n",
    "        diff = table_columns[2].text.strip()\n",
    "\n",
    "        mylist.append([year,earnings,diff])\n",
    "\n",
    "df2 = pd.DataFrame(\n",
    "    mylist,\n",
    "    columns=[\"Year\", \"Earnings\", \"diff\"]\n",
    ")\n"
   ]
  },
  {
   "cell_type": "code",
   "execution_count": 12,
   "id": "28d7011d",
   "metadata": {},
   "outputs": [
    {
     "data": {
      "text/html": [
       "<div>\n",
       "<style scoped>\n",
       "    .dataframe tbody tr th:only-of-type {\n",
       "        vertical-align: middle;\n",
       "    }\n",
       "\n",
       "    .dataframe tbody tr th {\n",
       "        vertical-align: top;\n",
       "    }\n",
       "\n",
       "    .dataframe thead th {\n",
       "        text-align: right;\n",
       "    }\n",
       "</style>\n",
       "<table border=\"1\" class=\"dataframe\">\n",
       "  <thead>\n",
       "    <tr style=\"text-align: right;\">\n",
       "      <th></th>\n",
       "      <th>Year</th>\n",
       "      <th>Earnings</th>\n",
       "      <th>diff</th>\n",
       "    </tr>\n",
       "  </thead>\n",
       "  <tbody>\n",
       "    <tr>\n",
       "      <th>0</th>\n",
       "      <td>2023 (TTM)</td>\n",
       "      <td>-$0.36 B</td>\n",
       "      <td>-28.66%</td>\n",
       "    </tr>\n",
       "    <tr>\n",
       "      <th>1</th>\n",
       "      <td>2022</td>\n",
       "      <td>-$0.5 B</td>\n",
       "      <td>10.59%</td>\n",
       "    </tr>\n",
       "    <tr>\n",
       "      <th>2</th>\n",
       "      <td>2021</td>\n",
       "      <td>-$0.45 B</td>\n",
       "      <td>467.03%</td>\n",
       "    </tr>\n",
       "    <tr>\n",
       "      <th>3</th>\n",
       "      <td>2020</td>\n",
       "      <td>-$79.35 M</td>\n",
       "      <td></td>\n",
       "    </tr>\n",
       "  </tbody>\n",
       "</table>\n",
       "</div>"
      ],
      "text/plain": [
       "         Year   Earnings     diff\n",
       "0  2023 (TTM)   -$0.36 B  -28.66%\n",
       "1        2022    -$0.5 B   10.59%\n",
       "2        2021   -$0.45 B  467.03%\n",
       "3        2020  -$79.35 M         "
      ]
     },
     "execution_count": 12,
     "metadata": {},
     "output_type": "execute_result"
    }
   ],
   "source": [
    "df2"
   ]
  },
  {
   "cell_type": "code",
   "execution_count": 13,
   "id": "00c1e51e",
   "metadata": {},
   "outputs": [
    {
     "data": {
      "text/html": [
       "<div>\n",
       "<style scoped>\n",
       "    .dataframe tbody tr th:only-of-type {\n",
       "        vertical-align: middle;\n",
       "    }\n",
       "\n",
       "    .dataframe tbody tr th {\n",
       "        vertical-align: top;\n",
       "    }\n",
       "\n",
       "    .dataframe thead th {\n",
       "        text-align: right;\n",
       "    }\n",
       "</style>\n",
       "<table border=\"1\" class=\"dataframe\">\n",
       "  <thead>\n",
       "    <tr style=\"text-align: right;\">\n",
       "      <th></th>\n",
       "      <th>Year</th>\n",
       "      <th>Market_cap</th>\n",
       "      <th>Change</th>\n",
       "    </tr>\n",
       "  </thead>\n",
       "  <tbody>\n",
       "    <tr>\n",
       "      <th>0</th>\n",
       "      <td>2024</td>\n",
       "      <td>$0.15 B</td>\n",
       "      <td>-22.38%</td>\n",
       "    </tr>\n",
       "    <tr>\n",
       "      <th>1</th>\n",
       "      <td>2023</td>\n",
       "      <td>$0.20 B</td>\n",
       "      <td>-52.36%</td>\n",
       "    </tr>\n",
       "    <tr>\n",
       "      <th>2</th>\n",
       "      <td>2022</td>\n",
       "      <td>$0.42 B</td>\n",
       "      <td>-76.98%</td>\n",
       "    </tr>\n",
       "    <tr>\n",
       "      <th>3</th>\n",
       "      <td>2021</td>\n",
       "      <td>$1.84 B</td>\n",
       "      <td>-43.32%</td>\n",
       "    </tr>\n",
       "    <tr>\n",
       "      <th>4</th>\n",
       "      <td>2020</td>\n",
       "      <td>$3.25 B</td>\n",
       "      <td></td>\n",
       "    </tr>\n",
       "  </tbody>\n",
       "</table>\n",
       "</div>"
      ],
      "text/plain": [
       "   Year Market_cap   Change\n",
       "0  2024    $0.15 B  -22.38%\n",
       "1  2023    $0.20 B  -52.36%\n",
       "2  2022    $0.42 B  -76.98%\n",
       "3  2021    $1.84 B  -43.32%\n",
       "4  2020    $3.25 B         "
      ]
     },
     "execution_count": 13,
     "metadata": {},
     "output_type": "execute_result"
    }
   ],
   "source": [
    "df"
   ]
  },
  {
   "cell_type": "code",
   "execution_count": 15,
   "id": "da3ea0f5",
   "metadata": {},
   "outputs": [
    {
     "data": {
      "text/html": [
       "<div>\n",
       "<style scoped>\n",
       "    .dataframe tbody tr th:only-of-type {\n",
       "        vertical-align: middle;\n",
       "    }\n",
       "\n",
       "    .dataframe tbody tr th {\n",
       "        vertical-align: top;\n",
       "    }\n",
       "\n",
       "    .dataframe thead th {\n",
       "        text-align: right;\n",
       "    }\n",
       "</style>\n",
       "<table border=\"1\" class=\"dataframe\">\n",
       "  <thead>\n",
       "    <tr style=\"text-align: right;\">\n",
       "      <th></th>\n",
       "      <th>Year</th>\n",
       "      <th>Market_cap</th>\n",
       "      <th>Change</th>\n",
       "      <th>Earnings</th>\n",
       "      <th>diff</th>\n",
       "    </tr>\n",
       "  </thead>\n",
       "  <tbody>\n",
       "    <tr>\n",
       "      <th>0</th>\n",
       "      <td>2024</td>\n",
       "      <td>$0.15 B</td>\n",
       "      <td>-22.38%</td>\n",
       "      <td>NaN</td>\n",
       "      <td>NaN</td>\n",
       "    </tr>\n",
       "    <tr>\n",
       "      <th>1</th>\n",
       "      <td>2023</td>\n",
       "      <td>$0.20 B</td>\n",
       "      <td>-52.36%</td>\n",
       "      <td>NaN</td>\n",
       "      <td>NaN</td>\n",
       "    </tr>\n",
       "    <tr>\n",
       "      <th>2</th>\n",
       "      <td>2022</td>\n",
       "      <td>$0.42 B</td>\n",
       "      <td>-76.98%</td>\n",
       "      <td>-$0.5 B</td>\n",
       "      <td>10.59%</td>\n",
       "    </tr>\n",
       "    <tr>\n",
       "      <th>3</th>\n",
       "      <td>2021</td>\n",
       "      <td>$1.84 B</td>\n",
       "      <td>-43.32%</td>\n",
       "      <td>-$0.45 B</td>\n",
       "      <td>467.03%</td>\n",
       "    </tr>\n",
       "    <tr>\n",
       "      <th>4</th>\n",
       "      <td>2020</td>\n",
       "      <td>$3.25 B</td>\n",
       "      <td></td>\n",
       "      <td>-$79.35 M</td>\n",
       "      <td></td>\n",
       "    </tr>\n",
       "  </tbody>\n",
       "</table>\n",
       "</div>"
      ],
      "text/plain": [
       "   Year Market_cap   Change   Earnings     diff\n",
       "0  2024    $0.15 B  -22.38%        NaN      NaN\n",
       "1  2023    $0.20 B  -52.36%        NaN      NaN\n",
       "2  2022    $0.42 B  -76.98%    -$0.5 B   10.59%\n",
       "3  2021    $1.84 B  -43.32%   -$0.45 B  467.03%\n",
       "4  2020    $3.25 B           -$79.35 M         "
      ]
     },
     "execution_count": 15,
     "metadata": {},
     "output_type": "execute_result"
    }
   ],
   "source": [
    "df_new=pd.merge(df,df2,on=\"Year\",how=\"left\")\n",
    "df_new"
   ]
  },
  {
   "cell_type": "code",
   "execution_count": 16,
   "id": "57e8aa65",
   "metadata": {},
   "outputs": [],
   "source": [
    "#saving it to the csv file\n",
    "df_new.to_csv(\"Canoo_market_earnings.csv\")"
   ]
  },
  {
   "cell_type": "markdown",
   "id": "0b892e6b",
   "metadata": {},
   "source": [
    "### Canoo's Competitors\n"
   ]
  },
  {
   "cell_type": "code",
   "execution_count": 17,
   "id": "32853c5f",
   "metadata": {},
   "outputs": [
    {
     "name": "stdout",
     "output_type": "stream",
     "text": [
      "403\n",
      "<class 'bs4.BeautifulSoup'>\n"
     ]
    }
   ],
   "source": [
    "q3=requests.get(\"https://www.macrotrends.net/stocks/charts/GOEV/canoo/market-cap\")\n",
    "print(q3.status_code)\n",
    "\n",
    "soup4=BeautifulSoup(q3.text,'html.parser')\n",
    "print(type(soup4)) "
   ]
  },
  {
   "cell_type": "markdown",
   "id": "3fa89be9",
   "metadata": {},
   "source": [
    " The above website cannot be acessed as it has 403 as status code"
   ]
  },
  {
   "cell_type": "code",
   "execution_count": 3,
   "id": "3645716d",
   "metadata": {},
   "outputs": [
    {
     "name": "stdout",
     "output_type": "stream",
     "text": [
      "200\n",
      "<class 'bs4.BeautifulSoup'>\n"
     ]
    }
   ],
   "source": [
    "q3=requests.get(\"https://incfact.com/company/canoo-torrance-ca/#revenue\")\n",
    "print(q3.status_code)\n",
    "\n",
    "soup5= BeautifulSoup(q3.text,'lxml')\n",
    "print(type(soup5)) "
   ]
  },
  {
   "cell_type": "code",
   "execution_count": 28,
   "id": "3877f3ad",
   "metadata": {},
   "outputs": [
    {
     "name": "stdout",
     "output_type": "stream",
     "text": [
      "\n",
      "Company\n",
      "HeadquartersRevenue ($ MM)TESLAPalo Alto, CA100 GENERAL MOTORS HOLDINGSDetroit, MI99 UAW-FORD VOLUNTARY EMPLOYEES BEDetroit, MI63 FCA USAuburn Hills, MI59 AMERICAN HONDA MOTORMarysville, OH45 NORTHROP GRUMMAN SYSTEMSFairfax, VA43 EATONCleveland, OH39 BOEINGSeattle, WA35 \n"
     ]
    }
   ],
   "source": [
    "table= soup5.find_all('table',class_=\"table outputtable\")[1]\n",
    "print(table.text)\n",
    "table_rows=table.find_all(\"tr\")\n",
    "#print(table_rows)\n",
    "\n",
    "mylist=[]\n",
    "f=pd.DataFrame(\n",
    "    columns=['Company','Headquaters']\n",
    ")\n",
    "for row in table_rows:\n",
    "    table_columns = row.find_all(\"td\")\n",
    "\n",
    "    if table_columns != []:\n",
    "        company = table_columns[0].text.strip()\n",
    "        Headquaters = table_columns[1].text.strip()\n",
    "\n",
    "        mylist.append([company,Headquaters])\n",
    "\n",
    "df3 = pd.DataFrame(\n",
    "    mylist,\n",
    "    columns=['Company','Headquaters']\n",
    ")\n"
   ]
  },
  {
   "cell_type": "code",
   "execution_count": 29,
   "id": "64bb86fe",
   "metadata": {},
   "outputs": [
    {
     "data": {
      "text/html": [
       "<div>\n",
       "<style scoped>\n",
       "    .dataframe tbody tr th:only-of-type {\n",
       "        vertical-align: middle;\n",
       "    }\n",
       "\n",
       "    .dataframe tbody tr th {\n",
       "        vertical-align: top;\n",
       "    }\n",
       "\n",
       "    .dataframe thead th {\n",
       "        text-align: right;\n",
       "    }\n",
       "</style>\n",
       "<table border=\"1\" class=\"dataframe\">\n",
       "  <thead>\n",
       "    <tr style=\"text-align: right;\">\n",
       "      <th></th>\n",
       "      <th>Company</th>\n",
       "      <th>Headquaters</th>\n",
       "    </tr>\n",
       "  </thead>\n",
       "  <tbody>\n",
       "    <tr>\n",
       "      <th>0</th>\n",
       "      <td>TESLA</td>\n",
       "      <td>Palo Alto, CA</td>\n",
       "    </tr>\n",
       "    <tr>\n",
       "      <th>1</th>\n",
       "      <td>GENERAL MOTORS HOLDINGS</td>\n",
       "      <td>Detroit, MI</td>\n",
       "    </tr>\n",
       "    <tr>\n",
       "      <th>2</th>\n",
       "      <td>UAW-FORD VOLUNTARY EMPLOYEES BE</td>\n",
       "      <td>Detroit, MI</td>\n",
       "    </tr>\n",
       "    <tr>\n",
       "      <th>3</th>\n",
       "      <td>FCA US</td>\n",
       "      <td>Auburn Hills, MI</td>\n",
       "    </tr>\n",
       "    <tr>\n",
       "      <th>4</th>\n",
       "      <td>AMERICAN HONDA MOTOR</td>\n",
       "      <td>Marysville, OH</td>\n",
       "    </tr>\n",
       "    <tr>\n",
       "      <th>5</th>\n",
       "      <td>NORTHROP GRUMMAN SYSTEMS</td>\n",
       "      <td>Fairfax, VA</td>\n",
       "    </tr>\n",
       "    <tr>\n",
       "      <th>6</th>\n",
       "      <td>EATON</td>\n",
       "      <td>Cleveland, OH</td>\n",
       "    </tr>\n",
       "    <tr>\n",
       "      <th>7</th>\n",
       "      <td>BOEING</td>\n",
       "      <td>Seattle, WA</td>\n",
       "    </tr>\n",
       "  </tbody>\n",
       "</table>\n",
       "</div>"
      ],
      "text/plain": [
       "                           Company       Headquaters\n",
       "0                            TESLA     Palo Alto, CA\n",
       "1          GENERAL MOTORS HOLDINGS       Detroit, MI\n",
       "2  UAW-FORD VOLUNTARY EMPLOYEES BE       Detroit, MI\n",
       "3                           FCA US  Auburn Hills, MI\n",
       "4             AMERICAN HONDA MOTOR    Marysville, OH\n",
       "5         NORTHROP GRUMMAN SYSTEMS       Fairfax, VA\n",
       "6                            EATON     Cleveland, OH\n",
       "7                           BOEING       Seattle, WA"
      ]
     },
     "execution_count": 29,
     "metadata": {},
     "output_type": "execute_result"
    }
   ],
   "source": [
    "df3"
   ]
  },
  {
   "cell_type": "code",
   "execution_count": 31,
   "id": "c2610b6f",
   "metadata": {},
   "outputs": [
    {
     "name": "stdout",
     "output_type": "stream",
     "text": [
      "\n",
      "Company\n",
      "HeadquartersRevenue ($ MM)CANOO TECHNOLOGIESTorrance, CA100 LISI HOLDING NORTH AMERICATorrance, CA65 ROBINSON HELICOPTERTorrance, CA54 DAICEL AMERICA HOLDINGSTorrance, CA44 MOTORCAR PARTS OF AMERICATorrance, CA23 GARRETT TRANSPORTATION ITorrance, CA11 \n"
     ]
    }
   ],
   "source": [
    "table= soup5.find_all('table',class_=\"table outputtable\")[2]\n",
    "print(table.text)\n",
    "table_rows=table.find_all(\"tr\")\n",
    "for row in table_rows:\n",
    "    table_columns = row.find_all(\"td\")\n",
    "\n",
    "    if table_columns != []:\n",
    "        company = table_columns[0].text.strip()\n",
    "        Headquaters = table_columns[1].text.strip()\n",
    "\n",
    "        mylist.append([company,Headquaters])\n",
    "\n",
    "df3 = pd.DataFrame(\n",
    "    mylist,\n",
    "    columns=['Company','Headquaters']\n",
    ")\n"
   ]
  },
  {
   "cell_type": "code",
   "execution_count": 35,
   "id": "549e2eef",
   "metadata": {},
   "outputs": [
    {
     "data": {
      "text/html": [
       "<div>\n",
       "<style scoped>\n",
       "    .dataframe tbody tr th:only-of-type {\n",
       "        vertical-align: middle;\n",
       "    }\n",
       "\n",
       "    .dataframe tbody tr th {\n",
       "        vertical-align: top;\n",
       "    }\n",
       "\n",
       "    .dataframe thead th {\n",
       "        text-align: right;\n",
       "    }\n",
       "</style>\n",
       "<table border=\"1\" class=\"dataframe\">\n",
       "  <thead>\n",
       "    <tr style=\"text-align: right;\">\n",
       "      <th></th>\n",
       "      <th>Company</th>\n",
       "      <th>Headquaters</th>\n",
       "    </tr>\n",
       "  </thead>\n",
       "  <tbody>\n",
       "    <tr>\n",
       "      <th>0</th>\n",
       "      <td>TESLA</td>\n",
       "      <td>Palo Alto, CA</td>\n",
       "    </tr>\n",
       "    <tr>\n",
       "      <th>1</th>\n",
       "      <td>GENERAL MOTORS HOLDINGS</td>\n",
       "      <td>Detroit, MI</td>\n",
       "    </tr>\n",
       "    <tr>\n",
       "      <th>2</th>\n",
       "      <td>UAW-FORD VOLUNTARY EMPLOYEES BE</td>\n",
       "      <td>Detroit, MI</td>\n",
       "    </tr>\n",
       "    <tr>\n",
       "      <th>3</th>\n",
       "      <td>FCA US</td>\n",
       "      <td>Auburn Hills, MI</td>\n",
       "    </tr>\n",
       "    <tr>\n",
       "      <th>4</th>\n",
       "      <td>AMERICAN HONDA MOTOR</td>\n",
       "      <td>Marysville, OH</td>\n",
       "    </tr>\n",
       "    <tr>\n",
       "      <th>5</th>\n",
       "      <td>NORTHROP GRUMMAN SYSTEMS</td>\n",
       "      <td>Fairfax, VA</td>\n",
       "    </tr>\n",
       "    <tr>\n",
       "      <th>6</th>\n",
       "      <td>EATON</td>\n",
       "      <td>Cleveland, OH</td>\n",
       "    </tr>\n",
       "    <tr>\n",
       "      <th>7</th>\n",
       "      <td>BOEING</td>\n",
       "      <td>Seattle, WA</td>\n",
       "    </tr>\n",
       "    <tr>\n",
       "      <th>8</th>\n",
       "      <td>CANOO TECHNOLOGIES</td>\n",
       "      <td>Torrance, CA</td>\n",
       "    </tr>\n",
       "    <tr>\n",
       "      <th>9</th>\n",
       "      <td>LISI HOLDING NORTH AMERICA</td>\n",
       "      <td>Torrance, CA</td>\n",
       "    </tr>\n",
       "    <tr>\n",
       "      <th>10</th>\n",
       "      <td>ROBINSON HELICOPTER</td>\n",
       "      <td>Torrance, CA</td>\n",
       "    </tr>\n",
       "    <tr>\n",
       "      <th>11</th>\n",
       "      <td>DAICEL AMERICA HOLDINGS</td>\n",
       "      <td>Torrance, CA</td>\n",
       "    </tr>\n",
       "    <tr>\n",
       "      <th>12</th>\n",
       "      <td>MOTORCAR PARTS OF AMERICA</td>\n",
       "      <td>Torrance, CA</td>\n",
       "    </tr>\n",
       "    <tr>\n",
       "      <th>13</th>\n",
       "      <td>GARRETT TRANSPORTATION I</td>\n",
       "      <td>Torrance, CA</td>\n",
       "    </tr>\n",
       "  </tbody>\n",
       "</table>\n",
       "</div>"
      ],
      "text/plain": [
       "                            Company       Headquaters\n",
       "0                             TESLA     Palo Alto, CA\n",
       "1           GENERAL MOTORS HOLDINGS       Detroit, MI\n",
       "2   UAW-FORD VOLUNTARY EMPLOYEES BE       Detroit, MI\n",
       "3                            FCA US  Auburn Hills, MI\n",
       "4              AMERICAN HONDA MOTOR    Marysville, OH\n",
       "5          NORTHROP GRUMMAN SYSTEMS       Fairfax, VA\n",
       "6                             EATON     Cleveland, OH\n",
       "7                            BOEING       Seattle, WA\n",
       "8                CANOO TECHNOLOGIES      Torrance, CA\n",
       "9        LISI HOLDING NORTH AMERICA      Torrance, CA\n",
       "10              ROBINSON HELICOPTER      Torrance, CA\n",
       "11          DAICEL AMERICA HOLDINGS      Torrance, CA\n",
       "12        MOTORCAR PARTS OF AMERICA      Torrance, CA\n",
       "13         GARRETT TRANSPORTATION I      Torrance, CA"
      ]
     },
     "execution_count": 35,
     "metadata": {},
     "output_type": "execute_result"
    }
   ],
   "source": [
    "df3"
   ]
  },
  {
   "cell_type": "code",
   "execution_count": 36,
   "id": "bd6b10e6",
   "metadata": {},
   "outputs": [],
   "source": [
    "df3.to_csv(\"canoo competitors.csv\")"
   ]
  },
  {
   "cell_type": "code",
   "execution_count": null,
   "id": "fcb17036",
   "metadata": {},
   "outputs": [],
   "source": []
  }
 ],
 "metadata": {
  "kernelspec": {
   "display_name": "Python 3 (ipykernel)",
   "language": "python",
   "name": "python3"
  },
  "language_info": {
   "codemirror_mode": {
    "name": "ipython",
    "version": 3
   },
   "file_extension": ".py",
   "mimetype": "text/x-python",
   "name": "python",
   "nbconvert_exporter": "python",
   "pygments_lexer": "ipython3",
   "version": "3.9.7"
  }
 },
 "nbformat": 4,
 "nbformat_minor": 5
}
