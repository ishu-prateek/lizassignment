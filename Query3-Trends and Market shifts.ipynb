{
 "cells": [
  {
   "cell_type": "markdown",
   "id": "65fbc192",
   "metadata": {},
   "source": [
    "## Trends in the market"
   ]
  },
  {
   "cell_type": "code",
   "execution_count": 1,
   "id": "6353933f",
   "metadata": {},
   "outputs": [],
   "source": [
    "import requests\n",
    "import numpy as np\n",
    "import pandas as pd\n",
    "from bs4 import BeautifulSoup"
   ]
  },
  {
   "cell_type": "code",
   "execution_count": 2,
   "id": "b6a25a91",
   "metadata": {},
   "outputs": [
    {
     "name": "stdout",
     "output_type": "stream",
     "text": [
      "200\n"
     ]
    }
   ],
   "source": [
    "r= requests.get(\"https://bolt.earth/blog/ev-trends-in-india\")\n",
    "print(r.status_code)"
   ]
  },
  {
   "cell_type": "code",
   "execution_count": 9,
   "id": "fa5c2498",
   "metadata": {},
   "outputs": [],
   "source": [
    "soup=BeautifulSoup(r.text,'html.parser')\n",
    "tags=soup.div.find_all('h3')"
   ]
  },
  {
   "cell_type": "code",
   "execution_count": 41,
   "id": "ecc840b0",
   "metadata": {},
   "outputs": [],
   "source": [
    "#i need only relevant information hence:\n",
    "f=open(\"Ev Trends.txt\",'w')\n",
    "\n",
    "for i in range(len(tags)-3):\n",
    "        f.write(str(i+1)+\".\"+tags[i].text)\n",
    "        f.write('\\n')\n",
    "        \n",
    "\n",
    "        \n",
    "    "
   ]
  },
  {
   "cell_type": "code",
   "execution_count": 42,
   "id": "7724886c",
   "metadata": {},
   "outputs": [
    {
     "data": {
      "text/plain": [
       "'1.AI-Powered Vehicle Health Checks\\n2.Advanced Driver Assistance Systems (ADAS)\\n3.Improved Connectivity Features\\n4.Charging Infrastructure Development\\n5.Smart Grids\\n6.Advancements in Battery Technology\\n7.Sustainable Material Disposal\\n8.Energy Efficiency and Regenerative Braking\\n9.Hydrogen Fuel Cell Vehicles (FCVs)\\n10.Safety Concerns With ADAS\\n11.Integration of Connectivity Features\\n12.Limitations in Battery Technology\\n13.Robust Testing and Safety Standards for Autonomous Driving\\n14.Enhanced Connectivity Protocols and Cybersecurity Measures\\n15.Innovations in Battery Technology\\n'"
      ]
     },
     "execution_count": 42,
     "metadata": {},
     "output_type": "execute_result"
    }
   ],
   "source": [
    "f=open(\"Ev Trends.txt\",'r')\n",
    "f.read()"
   ]
  },
  {
   "cell_type": "code",
   "execution_count": 43,
   "id": "86374275",
   "metadata": {},
   "outputs": [],
   "source": [
    "f.close()"
   ]
  },
  {
   "cell_type": "code",
   "execution_count": 44,
   "id": "c6237178",
   "metadata": {},
   "outputs": [
    {
     "name": "stdout",
     "output_type": "stream",
     "text": [
      "200\n"
     ]
    }
   ],
   "source": [
    "r2=requests.get(\"https://www.forbes.com/sites/forbesbusinesscouncil/2022/08/10/how-the-increase-in-electric-vehicles-is-affecting-consumer-behavior/?sh=1af7e74516d8\")\n",
    "print(r2.status_code)"
   ]
  },
  {
   "cell_type": "code",
   "execution_count": 61,
   "id": "5626f13c",
   "metadata": {},
   "outputs": [],
   "source": [
    "soup1=BeautifulSoup(r2.text,'html.parser')\n",
    "content=soup1.find_all('p')\n",
    "f=open(\"Ev Trends.txt\",'a')\n",
    "f.write(\"Consumer Behavior\\n\")\n",
    "for i in range(len(content)):\n",
    "    if i in [1,2,3,5,6,7,8,9] :\n",
    "        f.write(content[i].text)\n",
    "        f.write('\\n')\n",
    "    else:\n",
    "        continue\n",
    "\n",
    "f.close()\n",
    "    "
   ]
  },
  {
   "cell_type": "code",
   "execution_count": 63,
   "id": "1dac2985",
   "metadata": {},
   "outputs": [],
   "source": [
    "f=open(\"Ev Trends.txt\",'r')\n",
    "f.read()\n",
    "f.close()"
   ]
  },
  {
   "cell_type": "code",
   "execution_count": 64,
   "id": "dadc80f4",
   "metadata": {},
   "outputs": [
    {
     "name": "stdout",
     "output_type": "stream",
     "text": [
      "200\n"
     ]
    }
   ],
   "source": [
    "#EV trends in 2024\n",
    "r3=requests.get(\"https://www.greenlancer.com/post/ev-market-trends#:~:text=Electric%20vehicle%20trends%20for%202024%20include%20lower%20electric%20car%20prices,market%20in%20the%20coming%20year.\")\n",
    "print(r3.status_code)"
   ]
  },
  {
   "cell_type": "code",
   "execution_count": 67,
   "id": "c3be6555",
   "metadata": {},
   "outputs": [],
   "source": [
    "soup2=BeautifulSoup(r3.text,'html.parser')\n",
    "content=soup2.find('p',class_=\"qLu9J fi-3d xFXGd _6-rbz nL1m6\").find_all('span')"
   ]
  },
  {
   "cell_type": "code",
   "execution_count": 70,
   "id": "8267186d",
   "metadata": {},
   "outputs": [],
   "source": [
    "f=open(\"Ev Trends.txt\",'a')\n",
    "f.write(\"\\n\")\n",
    "f.write(\"Ev Trends in 2024\\n\")\n",
    "f.write(content[2].text)\n",
    "f.write('\\n')\n",
    "\n",
    "f.close()\n",
    "    "
   ]
  },
  {
   "cell_type": "code",
   "execution_count": 73,
   "id": "5e416351",
   "metadata": {},
   "outputs": [
    {
     "data": {
      "text/plain": [
       "329"
      ]
     },
     "execution_count": 73,
     "metadata": {},
     "output_type": "execute_result"
    }
   ],
   "source": [
    "contents=soup2.find('p',id=\"viewer-w943i3689\")\n",
    "f=open(\"Ev Trends.txt\",'a')\n",
    "f.write(\"\\n\")\n",
    "f.write(contents.text)\n",
    "f.close()"
   ]
  },
  {
   "cell_type": "code",
   "execution_count": 75,
   "id": "491e352f",
   "metadata": {},
   "outputs": [],
   "source": [
    "contents=soup2.find('p',id=\"viewer-ruvd03692\")\n",
    "f=open(\"Ev Trends.txt\",'a')\n",
    "f.write(\"\\n\")\n",
    "f.write(contents.text)\n",
    "f.close()"
   ]
  },
  {
   "cell_type": "code",
   "execution_count": null,
   "id": "2e9bd111",
   "metadata": {},
   "outputs": [],
   "source": []
  }
 ],
 "metadata": {
  "kernelspec": {
   "display_name": "Python 3 (ipykernel)",
   "language": "python",
   "name": "python3"
  },
  "language_info": {
   "codemirror_mode": {
    "name": "ipython",
    "version": 3
   },
   "file_extension": ".py",
   "mimetype": "text/x-python",
   "name": "python",
   "nbconvert_exporter": "python",
   "pygments_lexer": "ipython3",
   "version": "3.9.7"
  }
 },
 "nbformat": 4,
 "nbformat_minor": 5
}
